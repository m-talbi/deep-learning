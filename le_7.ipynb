{
 "cells": [
  {
   "cell_type": "markdown",
   "metadata": {},
   "source": [
    "#### Neural network classification\n",
    "- binary classification (example: dog or cat)\n",
    "- multiclass classification (more than 2 classes)"
   ]
  },
  {
   "cell_type": "markdown",
   "metadata": {},
   "source": [
    "#### What we're going to cover\n",
    "\n",
    "- Architecture of a neural network classification model\n",
    "- Input shapes and output shapes of a classification model (features and labels)\n",
    "- Creating custom data to view, fit on and predict on\n",
    "- Steps in modelling:\n",
    "    - creating a model\n",
    "    - setting up loss function and optimizer\n",
    "    - creating a training loop\n",
    "    - evaluating a model\n",
    "- Saving and loading a models\n",
    "- Harnessing the power of non-linearity\n",
    "- Different classification evaluation methods    "
   ]
  },
  {
   "cell_type": "code",
   "execution_count": null,
   "metadata": {},
   "outputs": [],
   "source": [
    "# batch size (32 is commonly used in practice)"
   ]
  },
  {
   "cell_type": "markdown",
   "metadata": {},
   "source": []
  }
 ],
 "metadata": {
  "kernelspec": {
   "display_name": "python-3.12",
   "language": "python",
   "name": "python3"
  },
  "language_info": {
   "name": "python",
   "version": "3.12.4"
  }
 },
 "nbformat": 4,
 "nbformat_minor": 2
}
