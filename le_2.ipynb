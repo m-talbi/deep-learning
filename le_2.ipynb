{
 "cells": [
  {
   "cell_type": "markdown",
   "metadata": {},
   "source": [
    "### Tensor operations\n",
    "- Addition\n",
    "- Subtraction\n",
    "- Multiplication (element-wise)\n",
    "- Division\n",
    "- Matrix multiplication (dot product)"
   ]
  },
  {
   "cell_type": "code",
   "execution_count": 1,
   "metadata": {},
   "outputs": [],
   "source": [
    "import torch\n",
    "import matplotlib.pyplot as plt"
   ]
  },
  {
   "cell_type": "code",
   "execution_count": 13,
   "metadata": {},
   "outputs": [
    {
     "name": "stdout",
     "output_type": "stream",
     "text": [
      "tensor([11, 12, 13])\n",
      "tensor([5, 7, 9])\n",
      "tensor([10, 12, 14])\n"
     ]
    }
   ],
   "source": [
    "# Addition\n",
    "tensor1 = torch.tensor([1, 2, 3])\n",
    "tensor2 = torch.tensor([4, 5, 6])\n",
    "print(tensor1 + 10) # addition with a scalar\n",
    "print(tensor1 + tensor2) # addition with another tensor\n",
    "print(torch.add(tensor1 + 2, tensor2 + 3)) # matrix addition"
   ]
  },
  {
   "cell_type": "code",
   "execution_count": 10,
   "metadata": {},
   "outputs": [
    {
     "name": "stdout",
     "output_type": "stream",
     "text": [
      "tensor([10, 20, 30])\n",
      "tensor([[ 4, 10, 18],\n",
      "        [ 2,  0,  3]])\n",
      "tensor([[21, 32, 45],\n",
      "        [15, 12, 20]])\n"
     ]
    }
   ],
   "source": [
    "# Multiplication\n",
    "tensor1 = torch.tensor([1, 2, 3])\n",
    "tensor2 = torch.tensor([[4, 5, 6], [2, 0, 1]])\n",
    "print(tensor1 * 10) # multiplication with a scalar (element-wise)\n",
    "print(tensor1 * tensor2) # multiplication with another tensor (element-wise)\n",
    "print(torch.mul(tensor1 + 2, tensor2 + 3)) # matrix multiplication (element-wise)"
   ]
  },
  {
   "cell_type": "code",
   "execution_count": 12,
   "metadata": {},
   "outputs": [
    {
     "name": "stdout",
     "output_type": "stream",
     "text": [
      "tensor([-4, -3, -2])\n",
      "tensor([[-3, -3, -3],\n",
      "        [-1,  2,  2]])\n",
      "tensor([[-4, -4, -4],\n",
      "        [-2,  1,  1]])\n"
     ]
    }
   ],
   "source": [
    "# Subtraction\n",
    "tensor1 = torch.tensor([1, 2, 3])\n",
    "tensor2 = torch.tensor([[4, 5, 6], [2, 0, 1]])\n",
    "print(tensor1 - 5) # subtraction with a scalar\n",
    "print(tensor1 - tensor2) # subtraction with another tensor\n",
    "print(torch.sub(tensor1 + 2, tensor2 + 3)) # matrix subtraction"
   ]
  },
  {
   "cell_type": "code",
   "execution_count": 15,
   "metadata": {},
   "outputs": [
    {
     "name": "stdout",
     "output_type": "stream",
     "text": [
      "tensor([0.2000, 0.4000, 0.6000])\n",
      "tensor([[0.2500, 0.4000, 0.5000],\n",
      "        [0.5000, 0.6667, 3.0000]])\n",
      "tensor([[0.4286, 0.5000, 0.5556],\n",
      "        [0.6000, 0.6667, 1.2500]])\n"
     ]
    }
   ],
   "source": [
    "# Division\n",
    "tensor1 = torch.tensor([1, 2, 3])\n",
    "tensor2 = torch.tensor([[4, 5, 6], [2, 3, 1]])\n",
    "print(tensor1 / 5) # division with a scalar\n",
    "print(tensor1 / tensor2) # division with another tensor\n",
    "print(torch.div(tensor1 + 2, tensor2 + 3)) # matrix division"
   ]
  },
  {
   "cell_type": "code",
   "execution_count": 16,
   "metadata": {},
   "outputs": [
    {
     "name": "stdout",
     "output_type": "stream",
     "text": [
      "tensor([[19, 22],\n",
      "        [43, 50]])\n",
      "torch.Size([2, 2])\n"
     ]
    }
   ],
   "source": [
    "# Matrix multiplication\n",
    "tensor1 = torch.tensor([[1, 2], [3, 4]])\n",
    "tensor2 = torch.tensor([[5, 6], [7, 8]])\n",
    "print(torch.matmul(tensor1, tensor2)) # matrix multiplication (dot product)\n",
    "print(torch.matmul(tensor1, tensor2).shape) # matrix multiplication (dot product)"
   ]
  },
  {
   "cell_type": "code",
   "execution_count": 29,
   "metadata": {},
   "outputs": [
    {
     "name": "stdout",
     "output_type": "stream",
     "text": [
      "tensor([ 4, 10, 18])\n",
      "tensor(32)\n",
      "tensor(32)\n",
      "tensor(32)\n"
     ]
    },
    {
     "ename": "RuntimeError",
     "evalue": "self must be a matrix",
     "output_type": "error",
     "traceback": [
      "\u001b[1;31m---------------------------------------------------------------------------\u001b[0m",
      "\u001b[1;31mRuntimeError\u001b[0m                              Traceback (most recent call last)",
      "Cell \u001b[1;32mIn[29], line 8\u001b[0m\n\u001b[0;32m      6\u001b[0m \u001b[38;5;28mprint\u001b[39m(torch\u001b[38;5;241m.\u001b[39mdot(tensor1, tensor2)) \u001b[38;5;66;03m# dot product (same as above)\u001b[39;00m\n\u001b[0;32m      7\u001b[0m \u001b[38;5;28mprint\u001b[39m(tensor1 \u001b[38;5;241m@\u001b[39m tensor2) \u001b[38;5;66;03m# dot product (same as above)\u001b[39;00m\n\u001b[1;32m----> 8\u001b[0m \u001b[38;5;28mprint\u001b[39m(\u001b[43mtensor1\u001b[49m\u001b[38;5;241;43m.\u001b[39;49m\u001b[43mmm\u001b[49m\u001b[43m(\u001b[49m\u001b[43mtensor2\u001b[49m\u001b[43m)\u001b[49m) \u001b[38;5;66;03m# dot product (same as above)\u001b[39;00m\n",
      "\u001b[1;31mRuntimeError\u001b[0m: self must be a matrix"
     ]
    }
   ],
   "source": [
    "# element-wise vs dot product\n",
    "tensor1 = torch.tensor([1, 2, 3])\n",
    "tensor2 = torch.tensor([4, 5, 6])\n",
    "print(tensor1 * tensor2) # element-wise\n",
    "print(torch.matmul(tensor1, tensor2)) # dot product\n",
    "print(torch.dot(tensor1, tensor2)) # dot product (same as above)\n",
    "print(tensor1 @ tensor2) # dot product (same as above)"
   ]
  },
  {
   "cell_type": "code",
   "execution_count": 30,
   "metadata": {},
   "outputs": [
    {
     "name": "stdout",
     "output_type": "stream",
     "text": [
      "tensor([[0.4016, 1.9845, 1.0880],\n",
      "        [0.3481, 1.8310, 1.2406],\n",
      "        [0.1918, 0.6081, 0.8947]])\n",
      "tensor([[0.1746, 0.4190],\n",
      "        [0.4933, 1.1967]])\n",
      "tensor([[0.4450, 0.3740],\n",
      "        [0.3106, 0.2030]])\n"
     ]
    }
   ],
   "source": [
    "print(torch.rand(3, 4) @ torch.rand(4, 3)) # size of the result is (3 (row from tensor1), 3 (column from tensor2))\n",
    "print(torch.rand(2, 3) @ torch.rand(3, 2)) # size of the result is 2\n",
    "print(torch.mm(torch.rand(2, 3), torch.rand(3, 2))) # size of the result is 2 (mm is an alias for matmul)"
   ]
  },
  {
   "cell_type": "code",
   "execution_count": 32,
   "metadata": {},
   "outputs": [
    {
     "name": "stdout",
     "output_type": "stream",
     "text": [
      "tensor([[1, 2],\n",
      "        [3, 4],\n",
      "        [5, 6]])\n",
      "torch.Size([3, 2])\n",
      "tensor([[1, 3, 5],\n",
      "        [2, 4, 6]])\n",
      "torch.Size([2, 3])\n"
     ]
    }
   ],
   "source": [
    "# transpose\n",
    "tensor1 = torch.tensor([[1, 2], [3, 4], [5, 6]])\n",
    "print(tensor1)\n",
    "print(tensor1.shape)\n",
    "print(tensor1.t()) # transpose\n",
    "print(tensor1.t().shape) # transpose"
   ]
  },
  {
   "cell_type": "markdown",
   "metadata": {},
   "source": [
    "### Tensor Aggregations\n",
    "- Min\n",
    "- Max\n",
    "- Mean\n",
    "- Sum\n",
    "- Standard Deviation"
   ]
  },
  {
   "cell_type": "code",
   "execution_count": 34,
   "metadata": {},
   "outputs": [
    {
     "data": {
      "text/plain": [
       "(tensor(0.), tensor(95.), tensor(47.5000), tensor(950.))"
      ]
     },
     "execution_count": 34,
     "metadata": {},
     "output_type": "execute_result"
    }
   ],
   "source": [
    "x = torch.arange(0, 100, 5, dtype=torch.float32) # default dtype is ong\n",
    "\n",
    "# torch.min(), torch.max(), torch.mean(), torch.sum()\n",
    "x.min(), x.max(), x.mean(), x.sum()"
   ]
  },
  {
   "cell_type": "code",
   "execution_count": 37,
   "metadata": {},
   "outputs": [
    {
     "name": "stdout",
     "output_type": "stream",
     "text": [
      "tensor(0) tensor(19)\n",
      "tensor(0.) tensor(95.)\n"
     ]
    }
   ],
   "source": [
    "# Positional arguments (index position)\n",
    "print(x.argmin(), x.argmax())\n",
    "print(x[x.argmin()], x[x.argmax()])"
   ]
  },
  {
   "cell_type": "code",
   "execution_count": 36,
   "metadata": {},
   "outputs": [
    {
     "data": {
      "text/plain": [
       "tensor(29.5804)"
      ]
     },
     "execution_count": 36,
     "metadata": {},
     "output_type": "execute_result"
    }
   ],
   "source": [
    "# standard deviation\n",
    "# standard deviation is the square root of the variance\n",
    "# A standard deviation (or σ) is a measure of how dispersed the data is in relation to the mean. Low, \n",
    "# or small, standard deviation indicates data are clustered tightly around the mean, and high, or large, \n",
    "# standard deviation indicates data are more spread out.\n",
    "x.std()"
   ]
  },
  {
   "cell_type": "markdown",
   "metadata": {},
   "source": [
    "### Reshaping, stacking, squeezing and expanding tensors\n",
    "- Reshaping: reshape a tensor to a defined shape\n",
    "- View: Return a view of an input tensor of certain shape without altering the original tensor (same memory location)\n",
    "- Stacking: combine multiple tensors on top of each other (vstack) or side by side (hstack)\n",
    "- Squeezing: removes all \"1\" dimensions from a tensor\n",
    "- Expanding (unsqueeze): add a \"1\" dimension to a tensor\n",
    "- Permute: Returns a view of the input with its dimensions rearranged according to a specified order."
   ]
  },
  {
   "cell_type": "code",
   "execution_count": 43,
   "metadata": {},
   "outputs": [
    {
     "name": "stdout",
     "output_type": "stream",
     "text": [
      "tensor([1, 2, 3, 4, 5, 6, 7, 8, 9]) torch.Size([9])\n",
      "tensor([[1, 2, 3],\n",
      "        [4, 5, 6],\n",
      "        [7, 8, 9]]) torch.Size([3, 3])\n",
      "tensor([[ 0,  1,  2,  3,  4],\n",
      "        [ 5,  6,  7,  8,  9],\n",
      "        [10, 11, 12, 13, 14]]) torch.Size([3, 5])\n"
     ]
    }
   ],
   "source": [
    "# reshape\n",
    "x = torch.arange(1, 10) # 9 elements\n",
    "print(x, x.shape)\n",
    "x_reshape = x.reshape(3, 3) # when you multiply the shape, you get the same number of elements in \"x\"\n",
    "print(x_reshape, x_reshape.shape)\n",
    "\n",
    "x = torch.arange(0, 15)\n",
    "x_reshape = x.reshape(3, 5)\n",
    "print(x_reshape, x_reshape.shape)"
   ]
  },
  {
   "cell_type": "code",
   "execution_count": 45,
   "metadata": {},
   "outputs": [
    {
     "name": "stdout",
     "output_type": "stream",
     "text": [
      "tensor([[1, 2, 3],\n",
      "        [4, 5, 6],\n",
      "        [7, 8, 9]]) torch.Size([3, 3])\n"
     ]
    },
    {
     "data": {
      "text/plain": [
       "(tensor([[5, 2, 3],\n",
       "         [5, 5, 6],\n",
       "         [5, 8, 9]]),\n",
       " tensor([5, 2, 3, 5, 5, 6, 5, 8, 9]))"
      ]
     },
     "execution_count": 45,
     "metadata": {},
     "output_type": "execute_result"
    }
   ],
   "source": [
    "# Change the view\n",
    "x = torch.arange(1, 10) \n",
    "# changing z changes x (because a view of a tensor shares the same memory as the original tensor)\n",
    "z = x.view(3, 3)\n",
    "print(z, z.shape)\n",
    "\n",
    "z[:, 0] = 5 # z[row (\":\" means all rows), column] = value\n",
    "z, x"
   ]
  },
  {
   "cell_type": "code",
   "execution_count": 3,
   "metadata": {},
   "outputs": [
    {
     "name": "stdout",
     "output_type": "stream",
     "text": [
      "tensor([[0.4503, 0.8463],\n",
      "        [0.9383, 0.3777]])\n",
      "tensor([[[0.4503, 0.9274],\n",
      "         [0.8463, 0.9009]],\n",
      "\n",
      "        [[0.9383, 0.0726],\n",
      "         [0.3777, 0.2791]]])\n"
     ]
    }
   ],
   "source": [
    "g = torch.rand(2, 2, 2)\n",
    "print(g[:, :, 0]) # returns the first element in each row\n",
    "print(g)"
   ]
  },
  {
   "cell_type": "code",
   "execution_count": 4,
   "metadata": {},
   "outputs": [
    {
     "name": "stdout",
     "output_type": "stream",
     "text": [
      "tensor([[1, 2, 3],\n",
      "        [4, 5, 6],\n",
      "        [7, 8, 9]]) torch.Size([3, 3])\n",
      "2\n"
     ]
    }
   ],
   "source": [
    "# Stack tensors on top of each other\n",
    "x = torch.tensor([1, 2, 3])\n",
    "y = torch.tensor([4, 5, 6])\n",
    "z = torch.tensor([7, 8, 9])\n",
    "s = torch.stack([x, y, z]) # concatenates tensors\n",
    "print(s, s.shape)\n",
    "print(s.dim())"
   ]
  },
  {
   "cell_type": "code",
   "execution_count": 7,
   "metadata": {},
   "outputs": [
    {
     "name": "stdout",
     "output_type": "stream",
     "text": [
      "tensor([[1, 4, 7],\n",
      "        [2, 5, 8],\n",
      "        [3, 6, 9]]) torch.Size([3, 3])\n"
     ]
    }
   ],
   "source": [
    "x = torch.tensor([1, 2, 3])\n",
    "y = torch.tensor([4, 5, 6])\n",
    "z = torch.tensor([7, 8, 9])\n",
    "s = torch.stack([x, y, z], dim=-1)\n",
    "print(s, s.shape)"
   ]
  },
  {
   "cell_type": "code",
   "execution_count": 15,
   "metadata": {},
   "outputs": [
    {
     "name": "stdout",
     "output_type": "stream",
     "text": [
      "tensor([[0.1966, 0.6276, 0.0538],\n",
      "        [0.8526, 0.1895, 0.0403],\n",
      "        [0.0103, 0.8325, 0.3598],\n",
      "        [0.4554, 0.8176, 0.7736],\n",
      "        [0.9549, 0.2746, 0.8124],\n",
      "        [0.6518, 0.9604, 0.2768],\n",
      "        [0.4772, 0.0681, 0.0440]])\n",
      "tensor([[0.1966, 0.8526, 0.0103, 0.4554, 0.9549, 0.6518, 0.4772],\n",
      "        [0.6276, 0.1895, 0.8325, 0.8176, 0.2746, 0.9604, 0.0681],\n",
      "        [0.0538, 0.0403, 0.3598, 0.7736, 0.8124, 0.2768, 0.0440]])\n"
     ]
    }
   ],
   "source": [
    "# vstack\n",
    "x = torch.rand(7)\n",
    "y = torch.rand(7)\n",
    "z = torch.rand(7)\n",
    "print(torch.stack([x, y, z], dim=1)) # vertical stacking 7 rows, 3 columns\n",
    "print(torch.stack([x, y, z], dim=0)) # horizontal stacking 3 rows, 7 columns"
   ]
  },
  {
   "cell_type": "code",
   "execution_count": 18,
   "metadata": {},
   "outputs": [
    {
     "name": "stdout",
     "output_type": "stream",
     "text": [
      "tensor([[[[0.],\n",
      "          [0.]]],\n",
      "\n",
      "\n",
      "        [[[0.],\n",
      "          [0.]]]]) torch.Size([2, 1, 2, 1])\n",
      "tensor([[0., 0.],\n",
      "        [0., 0.]]) torch.Size([2, 2])\n"
     ]
    }
   ],
   "source": [
    "# squeeze removes all dimensions of size 1\n",
    "x = torch.zeros(2,1,2,1)\n",
    "print(x, x.shape)\n",
    "print(x.squeeze(), x.squeeze().shape) # shape becomes (2, 2)"
   ]
  },
  {
   "cell_type": "code",
   "execution_count": 20,
   "metadata": {},
   "outputs": [
    {
     "name": "stdout",
     "output_type": "stream",
     "text": [
      "tensor([[[0., 0.]],\n",
      "\n",
      "        [[0., 0.]]]) torch.Size([2, 1, 2])\n"
     ]
    }
   ],
   "source": [
    "x = torch.zeros(2,1,2,1)\n",
    "print(x.squeeze(dim=3), x.squeeze(dim=3).shape) # dim=3 removes a dimension of size 1 at index 3"
   ]
  },
  {
   "cell_type": "code",
   "execution_count": 22,
   "metadata": {},
   "outputs": [
    {
     "name": "stdout",
     "output_type": "stream",
     "text": [
      "tensor([[[0., 0.]],\n",
      "\n",
      "        [[0., 0.]]]) torch.Size([2, 1, 2])\n",
      "tensor([[[[0., 0.]],\n",
      "\n",
      "         [[0., 0.]]]]) torch.Size([1, 2, 1, 2])\n"
     ]
    }
   ],
   "source": [
    "# unsqueeze\n",
    "x = torch.zeros(2,1,2)\n",
    "print(x, x.shape)\n",
    "print(x.unsqueeze(dim=0), x.unsqueeze(dim=0).shape) # dim=0 adds a dimension of size 1 at index 0"
   ]
  },
  {
   "cell_type": "code",
   "execution_count": 24,
   "metadata": {},
   "outputs": [
    {
     "name": "stdout",
     "output_type": "stream",
     "text": [
      "tensor([[ 0,  1],\n",
      "        [ 2,  3],\n",
      "        [ 4,  5],\n",
      "        [ 6,  7],\n",
      "        [ 8,  9],\n",
      "        [10, 11]]) torch.Size([6, 2])\n",
      "tensor([[ 0,  2,  4,  6,  8, 10],\n",
      "        [ 1,  3,  5,  7,  9, 11]]) torch.Size([2, 6])\n"
     ]
    }
   ],
   "source": [
    "# permute reorders the dimensions of a tensor\n",
    "x = torch.arange(0, 12).reshape(6, 2)\n",
    "print(x, x.shape)\n",
    "print(x.permute(1, 0), x.permute(1, 0).shape) # shape (6 (0), 2 (1)) -> (2, 6)"
   ]
  },
  {
   "cell_type": "code",
   "execution_count": 3,
   "metadata": {},
   "outputs": [
    {
     "data": {
      "text/plain": [
       "torch.Size([3, 224, 224])"
      ]
     },
     "execution_count": 3,
     "metadata": {},
     "output_type": "execute_result"
    }
   ],
   "source": [
    "img = torch.rand(224, 224, 3) # height, width, color channels\n",
    "permuted = img.permute(2, 0, 1) # color channels, width, height\n",
    "permuted.shape"
   ]
  },
  {
   "cell_type": "code",
   "execution_count": 7,
   "metadata": {},
   "outputs": [
    {
     "name": "stdout",
     "output_type": "stream",
     "text": [
      "tensor([[ 0,  1],\n",
      "        [ 2,  3],\n",
      "        [ 4,  5],\n",
      "        [ 6,  7],\n",
      "        [ 8,  9],\n",
      "        [10, 11]]) torch.Size([6, 2])\n",
      "tensor([0, 1]) torch.Size([2])\n",
      "tensor([ 0,  2,  4,  6,  8, 10]) torch.Size([6])\n",
      "tensor([0, 1]) torch.Size([2])\n"
     ]
    }
   ],
   "source": [
    "# indexing\n",
    "x = torch.arange(0, 12).reshape(6, 2)\n",
    "print(x, x.shape)\n",
    "print(x[0], x[0].shape) # first row\n",
    "print(x[:, 0], x[:, 0].shape) # first column in all rows\n",
    "print(x[0, :], x[0, :].shape) # all columns in first row"
   ]
  },
  {
   "cell_type": "code",
   "execution_count": 9,
   "metadata": {},
   "outputs": [
    {
     "name": "stdout",
     "output_type": "stream",
     "text": [
      "tensor([[4, 5, 6]])\n",
      "tensor([[2, 5, 8]])\n"
     ]
    }
   ],
   "source": [
    "x = torch.arange(1, 10).reshape(1, 3, 3)\n",
    "print(x[:, 1, :]) # middle \n",
    "# get all values of 0th and 1st dimensions but only index 1 of 2nd dimension\n",
    "print(x[:, :, 1])"
   ]
  },
  {
   "cell_type": "markdown",
   "metadata": {},
   "source": [
    "PyTorch and Numpy\n",
    "\n",
    "turn numpy ndarray to PyTorch tensor with: `torch.from_numpy(ndarray)`\n",
    "turn PyTorch tensor into numpy ndarray with: `torch.Tensor.numpy()`"
   ]
  },
  {
   "cell_type": "code",
   "execution_count": 17,
   "metadata": {},
   "outputs": [
    {
     "name": "stdout",
     "output_type": "stream",
     "text": [
      "[[1.2844277e+07 7.5929548e-38]\n",
      " [8.5647155e+09 4.2156663e-41]]\n",
      "[[1.2844277e+07 7.5929548e-38]\n",
      " [8.5647155e+09 4.2156663e-41]]\n"
     ]
    }
   ],
   "source": [
    "import numpy as np\n",
    "# default dtype in torch is float32, but it is float64 in numpy\n",
    "np_arr = np.ndarray(shape=(2, 2), dtype=np.float32)\n",
    "tensor = torch.from_numpy(np_arr).type(torch.float32)\n",
    "np_arr_back = tensor.numpy()\n",
    "print(np_arr)\n",
    "print(np_arr_back)"
   ]
  },
  {
   "cell_type": "code",
   "execution_count": 18,
   "metadata": {},
   "outputs": [
    {
     "data": {
      "text/plain": [
       "(array([1., 2., 3., 4., 5., 6., 7.]),\n",
       " tensor([1., 2., 3., 4., 5., 6., 7.], dtype=torch.float64))"
      ]
     },
     "execution_count": 18,
     "metadata": {},
     "output_type": "execute_result"
    }
   ],
   "source": [
    "arr = np.arange(1.0, 8.0)\n",
    "tensor = torch.from_numpy(arr)\n",
    "arr, tensor"
   ]
  },
  {
   "cell_type": "code",
   "execution_count": 21,
   "metadata": {},
   "outputs": [
    {
     "name": "stdout",
     "output_type": "stream",
     "text": [
      "tensor([1., 1., 1., 1., 1.])\n",
      "[1. 1. 1. 1. 1.]\n",
      "float32\n"
     ]
    }
   ],
   "source": [
    "tensor = torch.ones(5)\n",
    "np_tensor = tensor.numpy()\n",
    "print(tensor)\n",
    "print(np_tensor)\n",
    "print(np_tensor.dtype)"
   ]
  },
  {
   "cell_type": "markdown",
   "metadata": {},
   "source": [
    "### Reproducibility (trying to take random out of random)\n",
    "neural networks learns:\n",
    "1. start with random numbers\n",
    "2. tensor operations\n",
    "3. update random numbers to try and make them better representations of the data\n",
    "4. do the previous steps again\n",
    "\n",
    "To reduce randomness in neural networks and PyTorch comes the concept of a **random seed**\n",
    "- pseudo randomness\n",
    "learn about random seed in wikipedia and randomness in pytorch\n"
   ]
  },
  {
   "cell_type": "code",
   "execution_count": 3,
   "metadata": {},
   "outputs": [
    {
     "name": "stdout",
     "output_type": "stream",
     "text": [
      "tensor([[False, False, False, False],\n",
      "        [False, False, False, False],\n",
      "        [False, False, False, False]])\n"
     ]
    }
   ],
   "source": [
    "random_tensor = torch.rand(3, 4)\n",
    "random_tensor2 = torch.rand(3, 4)\n",
    "\n",
    "print(random_tensor == random_tensor2)"
   ]
  },
  {
   "cell_type": "code",
   "execution_count": 4,
   "metadata": {},
   "outputs": [
    {
     "data": {
      "text/plain": [
       "tensor([[True, True, True, True],\n",
       "        [True, True, True, True],\n",
       "        [True, True, True, True]])"
      ]
     },
     "execution_count": 4,
     "metadata": {},
     "output_type": "execute_result"
    }
   ],
   "source": [
    "seed = 42\n",
    "# set the seed each time you create a random tensor to get the same result\n",
    "torch.manual_seed(seed)\n",
    "random_tensor = torch.rand(3, 4)\n",
    "torch.manual_seed(seed)\n",
    "random_tensor2 = torch.rand(3, 4)\n",
    "random_tensor == random_tensor2"
   ]
  }
 ],
 "metadata": {
  "kernelspec": {
   "display_name": "Python 3",
   "language": "python",
   "name": "python3"
  },
  "language_info": {
   "codemirror_mode": {
    "name": "ipython",
    "version": 3
   },
   "file_extension": ".py",
   "mimetype": "text/x-python",
   "name": "python",
   "nbconvert_exporter": "python",
   "pygments_lexer": "ipython3",
   "version": "3.12.4"
  }
 },
 "nbformat": 4,
 "nbformat_minor": 2
}
