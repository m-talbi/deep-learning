{
 "cells": [
  {
   "cell_type": "code",
   "execution_count": 1,
   "metadata": {},
   "outputs": [
    {
     "data": {
      "text/plain": [
       "['cat-5.png', 'cat-0.png', 'cat-4.png', 'cat-1.png', 'cat-3.png', 'cat-2.png']"
      ]
     },
     "execution_count": 1,
     "metadata": {},
     "output_type": "execute_result"
    }
   ],
   "source": [
    "import os\n",
    "import cv2 as cv\n",
    "\n",
    "# for idx, img in enumerate(os.listdir(\"../data/cat images\")):\n",
    "#   os.rename(f\"../data/cat images/{img}\", f\"../data/cat images/cat-{idx}.png\")\n",
    "\n",
    "BASE_DATA_DIR = \"../data\"\n",
    "CATS = \"/cat images\"\n",
    "VIDEOS = \"/videos\"\n",
    "os.listdir(\"../data/cat images\")"
   ]
  },
  {
   "cell_type": "markdown",
   "metadata": {},
   "source": [
    "## Reading images/videos"
   ]
  },
  {
   "cell_type": "code",
   "execution_count": 4,
   "metadata": {},
   "outputs": [],
   "source": [
    "# Read an image\n",
    "img = cv.imread(BASE_DATA_DIR + CATS + \"/cat-0.png\")\n",
    "\n",
    "cv.imshow(\"image\", img)\n",
    "cv.waitKey(0) # wait until any key is pressed, 0 means infinite\n",
    "cv.destroyAllWindows()"
   ]
  },
  {
   "cell_type": "code",
   "execution_count": 2,
   "metadata": {},
   "outputs": [
    {
     "name": "stderr",
     "output_type": "stream",
     "text": [
      "Warning: Ignoring XDG_SESSION_TYPE=wayland on Gnome. Use QT_QPA_PLATFORM=wayland to run on Wayland anyway.\n"
     ]
    }
   ],
   "source": [
    "# Read a video\n",
    "cap = cv.VideoCapture(BASE_DATA_DIR + VIDEOS + \"/alice.mp4\")\n",
    "\n",
    "while True:\n",
    "    isTrue, frame = cap.read()\n",
    "    cv.imshow(\"Video\", frame)\n",
    "\n",
    "    if cv.waitKey(20) & 0xFF == ord(\"d\"):\n",
    "        break\n",
    "\n",
    "cap.release()\n",
    "cv.destroyAllWindows()"
   ]
  },
  {
   "cell_type": "markdown",
   "metadata": {},
   "source": [
    "## Resizing and rescaling"
   ]
  },
  {
   "cell_type": "code",
   "execution_count": 19,
   "metadata": {},
   "outputs": [],
   "source": [
    "# use for live video (camera, stream...)\n",
    "def change_res(cap, width, height):\n",
    "    cap.set(3, width)\n",
    "    cap.set(4, height)\n",
    "\n",
    "# use for video files\n",
    "def rescale_frame(frame, scale=0.75):\n",
    "    width = int(frame.shape[1] * scale)\n",
    "    height = int(frame.shape[0] * scale)\n",
    "    dimensions = (width, height)\n",
    "\n",
    "    return cv.resize(frame, dimensions, interpolation=cv.INTER_AREA)"
   ]
  },
  {
   "cell_type": "code",
   "execution_count": 5,
   "metadata": {},
   "outputs": [],
   "source": [
    "img = cv.imread(BASE_DATA_DIR + CATS + \"/cat-0.png\")\n",
    "\n",
    "cv.imshow(\"Cat\", rescale_frame(img, 1.5))\n",
    "cv.waitKey(0)\n",
    "cv.destroyAllWindows()"
   ]
  },
  {
   "cell_type": "code",
   "execution_count": 11,
   "metadata": {},
   "outputs": [],
   "source": [
    "cap_video = cv.VideoCapture(BASE_DATA_DIR + VIDEOS + \"/alice.mp4\")\n",
    "\n",
    "while True:\n",
    "    isTrue, frame = cap_video.read()\n",
    "\n",
    "    frame_resized = rescale_frame(frame, 0.5)\n",
    "\n",
    "    cv.imshow(\"Video\", frame_resized)\n",
    "\n",
    "    if cv.waitKey(20) & 0xFF == ord(\"d\"):\n",
    "        break\n",
    "\n",
    "cap.release()\n",
    "cv.destroyAllWindows()"
   ]
  },
  {
   "cell_type": "code",
   "execution_count": 18,
   "metadata": {},
   "outputs": [],
   "source": [
    "cap_cam = cv.VideoCapture(0)\n",
    "\n",
    "if not cap_cam.isOpened():\n",
    "    print(\"Cannot open camera, exiting...\")\n",
    "    exit()\n",
    "\n",
    "while True:\n",
    "    isTrue, frame = cap_cam.read()\n",
    "\n",
    "    frame_resized = rescale_frame(frame, 1.25)\n",
    "\n",
    "    cv.imshow(\"Video\", frame_resized)\n",
    "\n",
    "    if cv.waitKey(20) & 0xFF == ord(\"d\"):\n",
    "        break\n",
    "\n",
    "cap_cam.release()\n",
    "cv.destroyAllWindows()"
   ]
  }
 ],
 "metadata": {
  "kernelspec": {
   "display_name": "python-3.12",
   "language": "python",
   "name": "python3"
  },
  "language_info": {
   "codemirror_mode": {
    "name": "ipython",
    "version": 3
   },
   "file_extension": ".py",
   "mimetype": "text/x-python",
   "name": "python",
   "nbconvert_exporter": "python",
   "pygments_lexer": "ipython3",
   "version": "3.12.4"
  }
 },
 "nbformat": 4,
 "nbformat_minor": 2
}
