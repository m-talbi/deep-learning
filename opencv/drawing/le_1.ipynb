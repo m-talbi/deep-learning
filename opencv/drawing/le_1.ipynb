{
 "cells": [
  {
   "cell_type": "code",
   "execution_count": 1,
   "metadata": {},
   "outputs": [
    {
     "data": {
      "text/plain": [
       "['cat-5.png', 'cat-0.png', 'cat-4.png', 'cat-1.png', 'cat-3.png', 'cat-2.png']"
      ]
     },
     "execution_count": 1,
     "metadata": {},
     "output_type": "execute_result"
    }
   ],
   "source": [
    "import cv2 as cv\n",
    "import numpy as np\n",
    "import os\n",
    "\n",
    "BASE_DATA_DIR = \"../data\"\n",
    "CATS = \"/cat images\"\n",
    "VIDEOS = \"/videos\"\n",
    "\n",
    "os.listdir(BASE_DATA_DIR + CATS)"
   ]
  },
  {
   "cell_type": "code",
   "execution_count": 2,
   "metadata": {},
   "outputs": [],
   "source": [
    "blank = np.zeros((500, 500, 3), dtype=np.uint8)"
   ]
  },
  {
   "cell_type": "code",
   "execution_count": null,
   "metadata": {},
   "outputs": [],
   "source": [
    "# fill with green color (fill the whole image)\n",
    "blank[:] = 0, 255, 0 # Blue Green Red"
   ]
  },
  {
   "cell_type": "code",
   "execution_count": null,
   "metadata": {},
   "outputs": [],
   "source": [
    "# Draw a blue rectangle (starts from the edge of the image since we didn't specify columns)\n",
    "# 200:300 means from row 200 to row 300\n",
    "blank[200:300] = 255, 0, 0"
   ]
  },
  {
   "cell_type": "code",
   "execution_count": null,
   "metadata": {},
   "outputs": [],
   "source": [
    "# Paint a red square\n",
    "# from row (100 to 200), from col (250 to 350)\n",
    "blank[100:200, 250:350] = 0, 0, 255"
   ]
  },
  {
   "cell_type": "code",
   "execution_count": 17,
   "metadata": {},
   "outputs": [
    {
     "name": "stdout",
     "output_type": "stream",
     "text": [
      "Done\n"
     ]
    }
   ],
   "source": [
    "# Draw the edges of a rectangle with opencv\n",
    "# pt1 = (col, row)\n",
    "cv.rectangle(img=blank, pt1=(50, 50), pt2=(300, 300), color=(0, 255, 0), thickness=2)\n",
    "print(\"Done\")"
   ]
  },
  {
   "cell_type": "code",
   "execution_count": 3,
   "metadata": {},
   "outputs": [
    {
     "name": "stdout",
     "output_type": "stream",
     "text": [
      "Done\n"
     ]
    }
   ],
   "source": [
    "# Draw a rectangle with opencv\n",
    "# pt1 = (col, row)\n",
    "cv.rectangle(img=blank, pt1=(200, 50), pt2=(300, 300), color=(100, 40, 50), thickness=cv.FILLED)\n",
    "print(\"Done\")"
   ]
  },
  {
   "cell_type": "code",
   "execution_count": 4,
   "metadata": {},
   "outputs": [
    {
     "data": {
      "text/plain": [
       "(200.0, 200.0)"
      ]
     },
     "execution_count": 4,
     "metadata": {},
     "output_type": "execute_result"
    }
   ],
   "source": [
    "blank.shape[1] // 2.5, blank.shape[0] // 2.5"
   ]
  },
  {
   "cell_type": "code",
   "execution_count": 13,
   "metadata": {},
   "outputs": [
    {
     "name": "stdout",
     "output_type": "stream",
     "text": [
      "Done\n"
     ]
    }
   ],
   "source": [
    "# Draw a rectangle with opencv (another method)\n",
    "# pt1 = (row, col)\n",
    "cv.rectangle(img=blank, pt1=(150, 150), pt2=(int(blank.shape[1] // 1.5), int(blank.shape[0] // 1.5)), color=(30, 40, 50), thickness=cv.FILLED)\n",
    "print(\"Done\")"
   ]
  },
  {
   "cell_type": "code",
   "execution_count": 18,
   "metadata": {},
   "outputs": [
    {
     "name": "stdout",
     "output_type": "stream",
     "text": [
      "Done\n"
     ]
    }
   ],
   "source": [
    "# Draw a circle\n",
    "cv.circle(blank, center=(250, 250), radius=100, color=(0, 0, 255), thickness=3)\n",
    "print(\"Done\")"
   ]
  },
  {
   "cell_type": "code",
   "execution_count": 23,
   "metadata": {},
   "outputs": [
    {
     "name": "stdout",
     "output_type": "stream",
     "text": [
      "Done\n"
     ]
    }
   ],
   "source": [
    "# Draw a line\n",
    "cv.line(blank, pt1=(100, 50), pt2=(200, 150), color=(100, 150, 200), thickness=2, lineType=1)\n",
    "print(\"Done\")"
   ]
  },
  {
   "cell_type": "code",
   "execution_count": 29,
   "metadata": {},
   "outputs": [
    {
     "name": "stdout",
     "output_type": "stream",
     "text": [
      "Done\n"
     ]
    }
   ],
   "source": [
    "# Write text\n",
    "cv.putText(blank, \"Hello World\", fontFace=cv.FONT_HERSHEY_PLAIN, fontScale=1.0, org=(150, 300), color=(255, 0, 0), thickness=2)\n",
    "print(\"Done\")"
   ]
  },
  {
   "cell_type": "code",
   "execution_count": 30,
   "metadata": {},
   "outputs": [],
   "source": [
    "cv.imshow(\"Green\", blank)\n",
    "cv.waitKey(0)\n",
    "cv.destroyAllWindows()"
   ]
  }
 ],
 "metadata": {
  "kernelspec": {
   "display_name": "python-3.12",
   "language": "python",
   "name": "python3"
  },
  "language_info": {
   "codemirror_mode": {
    "name": "ipython",
    "version": 3
   },
   "file_extension": ".py",
   "mimetype": "text/x-python",
   "name": "python",
   "nbconvert_exporter": "python",
   "pygments_lexer": "ipython3",
   "version": "3.12.4"
  }
 },
 "nbformat": 4,
 "nbformat_minor": 2
}
