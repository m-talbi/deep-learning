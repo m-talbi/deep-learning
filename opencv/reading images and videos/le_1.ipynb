{
 "cells": [
  {
   "cell_type": "code",
   "execution_count": 10,
   "metadata": {},
   "outputs": [
    {
     "data": {
      "text/plain": [
       "tensor([[129, 385, 106, 326, 515, 486, 283, 224, 186, 176],\n",
       "        [212, 119, 193, 554,  94, 362,  67, 376,  31, 216],\n",
       "        [439, 117, 632, 323, 656, 686, 528, 203, 657, 568],\n",
       "        [204, 616, 597,  44, 561, 644, 276, 627,  69, 534],\n",
       "        [498, 531,  69,  83, 417, 686, 365, 579, 118,   0],\n",
       "        [162, 316,  62, 328, 338, 292, 238, 264,  44, 640],\n",
       "        [ 76,  91, 256, 683, 534, 313, 154, 171, 498, 128],\n",
       "        [670, 635, 580, 218, 533, 455, 666, 272, 276, 185],\n",
       "        [543, 671, 399, 178,   8, 337, 296, 633, 447, 381],\n",
       "        [668, 214, 567, 240, 538, 579, 625, 559, 262,  18]])"
      ]
     },
     "execution_count": 10,
     "metadata": {},
     "output_type": "execute_result"
    }
   ],
   "source": [
    "import torch\n",
    "\n",
    "torch.randint(low=0, high=688, size=(10, 10))"
   ]
  },
  {
   "cell_type": "code",
   "execution_count": 2,
   "metadata": {},
   "outputs": [
    {
     "data": {
      "text/plain": [
       "['cat-5.png', 'cat-1.png', 'cat-0.png', 'cat-2.png', 'cat-4.png', 'cat-3.png']"
      ]
     },
     "execution_count": 2,
     "metadata": {},
     "output_type": "execute_result"
    }
   ],
   "source": [
    "import os\n",
    "\n",
    "# for idx, img in enumerate(os.listdir(\"../data/cat images\")):\n",
    "#   os.rename(f\"../data/cat images/{img}\", f\"../data/cat images/cat-{idx}.png\")\n",
    "\n",
    "BASE_DATA_DIR = \"../data\"\n",
    "CATS = \"/cat images\"\n",
    "VIDEOS = \"/videos\"\n",
    "os.listdir(\"../data/cat images\")"
   ]
  },
  {
   "cell_type": "markdown",
   "metadata": {},
   "source": [
    "## Reading images/videos"
   ]
  },
  {
   "cell_type": "code",
   "execution_count": 4,
   "metadata": {},
   "outputs": [],
   "source": [
    "# Read an image\n",
    "import cv2 as cv\n",
    "\n",
    "img = cv.imread(BASE_DATA_DIR + CATS + \"/cat-0.png\")\n",
    "\n",
    "cv.imshow(\"image\", img)\n",
    "cv.waitKey(0) # wait until any key is pressed, 0 means infinite\n",
    "cv.destroyAllWindows()"
   ]
  },
  {
   "cell_type": "code",
   "execution_count": 3,
   "metadata": {},
   "outputs": [],
   "source": [
    "# Read a video\n",
    "import cv2 as cv\n",
    "\n",
    "cap = cv.VideoCapture(BASE_DATA_DIR + VIDEOS + \"/alice.mp4\")\n",
    "\n",
    "while True:\n",
    "    isTrue, frame = cap.read()\n",
    "    cv.imshow(\"Video\", frame)\n",
    "\n",
    "    if cv.waitKey(20) & 0xFF == ord(\"d\"):\n",
    "        break\n",
    "\n",
    "cap.release()\n",
    "cv.destroyAllWindows()"
   ]
  },
  {
   "cell_type": "markdown",
   "metadata": {},
   "source": [
    "## Resizing"
   ]
  }
 ],
 "metadata": {
  "kernelspec": {
   "display_name": "python-3.12",
   "language": "python",
   "name": "python3"
  },
  "language_info": {
   "codemirror_mode": {
    "name": "ipython",
    "version": 3
   },
   "file_extension": ".py",
   "mimetype": "text/x-python",
   "name": "python",
   "nbconvert_exporter": "python",
   "pygments_lexer": "ipython3",
   "version": "3.12.4"
  }
 },
 "nbformat": 4,
 "nbformat_minor": 2
}
