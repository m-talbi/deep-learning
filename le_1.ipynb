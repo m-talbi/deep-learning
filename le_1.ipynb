{
 "cells": [
  {
   "cell_type": "markdown",
   "metadata": {},
   "source": [
    "### scalar \n",
    "- a number belongs to R\n",
    "$$ 1 $$\n",
    "### vector\n",
    "- 1 dimensional array\n",
    "$$\\begin{bmatrix}\n",
    "1 \\\\\n",
    "4 \\\\\n",
    "5\n",
    "\\end{bmatrix}$$\n",
    "\n",
    "### Matrix\n",
    "- 2 dimensional array\n",
    "$$\\begin{bmatrix}\n",
    "1 & 2 & 3\\\\\n",
    "4 & 5 & 6\n",
    "\\end{bmatrix}$$\n",
    "\n",
    "### Tensor\n",
    "- n dimensional array\n",
    "$$\\begin{bmatrix}\n",
    "\\begin{bmatrix} 1 & 2\\\\ 4 & 7 \\end{bmatrix} & \\begin{bmatrix} 1 & 2\\\\ 4 & 5 \\end{bmatrix}\\\\\n",
    "\\begin{bmatrix} 5 & 1\\\\ 8 & 0 \\end{bmatrix} & \\begin{bmatrix} 2 & 0\\\\ 3 & 6 \\end{bmatrix}\\\\\n",
    "\\end{bmatrix}$$"
   ]
  },
  {
   "cell_type": "code",
   "execution_count": 3,
   "metadata": {},
   "outputs": [
    {
     "name": "stdout",
     "output_type": "stream",
     "text": [
      "2.3.1+cpu\n"
     ]
    }
   ],
   "source": [
    "import torch\n",
    "import pandas as pd\n",
    "import matplotlib.pyplot as plt\n",
    "print(torch.__version__)"
   ]
  },
  {
   "cell_type": "code",
   "execution_count": 15,
   "metadata": {},
   "outputs": [
    {
     "name": "stdout",
     "output_type": "stream",
     "text": [
      "tensor(7)\n",
      "0\n",
      "tensor([[1, 2],\n",
      "        [3, 4],\n",
      "        [5, 6]])\n",
      "2\n",
      "tensor([[1]])\n",
      "2\n"
     ]
    }
   ],
   "source": [
    "## introduction to tensors\n",
    "# creating tensors\n",
    "\n",
    "# scalar\n",
    "scalar = torch.tensor(7)\n",
    "print(scalar) # tensor(7)\n",
    "print(scalar.ndim) # 0 (dimension) (number of nested arrays)\n",
    "\n",
    "scalar2 = torch.tensor([[1, 2], [3, 4], [5, 6]])\n",
    "print(scalar2) # tensor([[1, 2], [3, 4]])\n",
    "print(scalar2.ndim) # 2 dimension (number of nested arrays)\n",
    "\n",
    "scalar3 = torch.tensor([[1]])\n",
    "print(scalar3) # tensor([[1, 2], [3, 4]])\n",
    "print(scalar3.ndim) # 2 dimension (number of nested arrays)"
   ]
  },
  {
   "cell_type": "code",
   "execution_count": 16,
   "metadata": {},
   "outputs": [
    {
     "name": "stdout",
     "output_type": "stream",
     "text": [
      "7\n",
      "1\n"
     ]
    }
   ],
   "source": [
    "print(scalar.item())\n",
    "# print(scalar2.item()) # RuntimeError: a Tensor with 6 elements cannot be converted to Scalar\n",
    "print(scalar3.item())\n"
   ]
  },
  {
   "cell_type": "code",
   "execution_count": 17,
   "metadata": {},
   "outputs": [
    {
     "name": "stdout",
     "output_type": "stream",
     "text": [
      "tensor([7, 7])\n",
      "1\n",
      "tensor([[1, 2],\n",
      "        [3, 4],\n",
      "        [5, 6]])\n",
      "2\n",
      "tensor([[[1]]])\n",
      "3\n"
     ]
    }
   ],
   "source": [
    "# vector\n",
    "vector = torch.tensor([7, 7])\n",
    "print(vector) # tensor([7, 7])\n",
    "print(vector.ndim) # 1 dimension (vector essentially) (number of nested arrays)\n",
    "\n",
    "vector2 = torch.tensor([[1, 2], [3, 4], [5, 6]])\n",
    "print(vector2) # tensor([[1, 2], [3, 4]])\n",
    "print(vector2.ndim) # 2 dimensional (matrix essentially) (number of nested arrays)\n",
    "\n",
    "vector3 = torch.tensor([[[1]]])\n",
    "print(vector3) # tensor([[1, 2], [3, 4]])\n",
    "print(vector3.ndim) # 3 (tensor essentially) dimension (number of nested arrays)"
   ]
  },
  {
   "cell_type": "code",
   "execution_count": 21,
   "metadata": {},
   "outputs": [
    {
     "name": "stdout",
     "output_type": "stream",
     "text": [
      "torch.Size([])\n",
      "torch.Size([2])\n",
      "torch.Size([3, 2])\n",
      "torch.Size([1, 1, 1])\n"
     ]
    }
   ],
   "source": [
    "print(torch.tensor(5).size()) # empty []\n",
    "print(vector.size()) # number of elements within each array in the tensor\n",
    "print(vector2.size()) # number of elements within each array in the tensor\n",
    "print(vector3.size()) # number of elements within each array in the tensor"
   ]
  },
  {
   "cell_type": "code",
   "execution_count": 22,
   "metadata": {},
   "outputs": [
    {
     "name": "stdout",
     "output_type": "stream",
     "text": [
      "tensor([[1, 2, 3],\n",
      "        [4, 5, 6]])\n",
      "2\n"
     ]
    }
   ],
   "source": [
    "# Matrix\n",
    "matrix = torch.tensor([[1, 2, 3], [4, 5, 6]])\n",
    "print(matrix) # tensor([[1, 2, 3], [4, 5, 6]])\n",
    "print(matrix.ndim) # 2 dimensional (matrix essentially) (number of nested arrays)"
   ]
  },
  {
   "cell_type": "code",
   "execution_count": 27,
   "metadata": {},
   "outputs": [
    {
     "data": {
      "text/plain": [
       "torch.Size([2, 3])"
      ]
     },
     "execution_count": 27,
     "metadata": {},
     "output_type": "execute_result"
    }
   ],
   "source": [
    "matrix.shape # size() and shape are the same"
   ]
  },
  {
   "cell_type": "code",
   "execution_count": 29,
   "metadata": {},
   "outputs": [
    {
     "name": "stdout",
     "output_type": "stream",
     "text": [
      "tensor([[[3, 5],\n",
      "         [7, 4],\n",
      "         [1, 9]],\n",
      "\n",
      "        [[0, 4],\n",
      "         [2, 3],\n",
      "         [7, 8]]])\n",
      "3\n",
      "torch.Size([2, 3, 2])\n"
     ]
    }
   ],
   "source": [
    "# Tensor\n",
    "\n",
    "tensor = torch.tensor([[[3, 5], [7, 4], [1, 9]], [[0, 4], [2, 3], [7, 8]]])\n",
    "print(tensor)\n",
    "print(tensor.ndim) # 3 dimensional (matrix essentially) (number of nested arrays)\n",
    "print(tensor.shape)"
   ]
  },
  {
   "cell_type": "markdown",
   "metadata": {},
   "source": [
    "### Convention\n",
    "- scalar and vector variables are written in lowercase\n",
    "- Matrix and tensor variables are written in uppercase"
   ]
  },
  {
   "cell_type": "markdown",
   "metadata": {},
   "source": [
    "### Random Tensors\n",
    "Random tensors are important because the way many neural networks learn is that they start with tensors full of random numbers and then adjust those random numbers to better represent the data.\n",
    "\n",
    "1. start with random numbers\n",
    "2. look at data\n",
    "3. update those random numbers"
   ]
  },
  {
   "cell_type": "code",
   "execution_count": 30,
   "metadata": {},
   "outputs": [
    {
     "name": "stdout",
     "output_type": "stream",
     "text": [
      "tensor([[0.4570, 0.2232, 0.8566, 0.6047],\n",
      "        [0.4427, 0.5345, 0.3720, 0.1986],\n",
      "        [0.5540, 0.5083, 0.3458, 0.0745]])\n",
      "2\n",
      "torch.Size([3, 4])\n"
     ]
    }
   ],
   "source": [
    "# create a random tensor\n",
    "random_tensor = torch.rand(3, 4)\n",
    "print(random_tensor)\n",
    "print(random_tensor.ndim) # 2 dimensional (matrix essentially) (number of nested arrays)\n",
    "print(random_tensor.shape)"
   ]
  },
  {
   "cell_type": "code",
   "execution_count": 32,
   "metadata": {},
   "outputs": [
    {
     "name": "stdout",
     "output_type": "stream",
     "text": [
      "tensor([[[[0.7433, 0.4354],\n",
      "          [0.4217, 0.3716],\n",
      "          [0.9967, 0.6850]],\n",
      "\n",
      "         [[0.3957, 0.5961],\n",
      "          [0.6487, 0.3949],\n",
      "          [0.7772, 0.5608]]],\n",
      "\n",
      "\n",
      "        [[[0.6163, 0.7421],\n",
      "          [0.4071, 0.2285],\n",
      "          [0.1541, 0.9107]],\n",
      "\n",
      "         [[0.5673, 0.1467],\n",
      "          [0.5392, 0.2337],\n",
      "          [0.1985, 0.6632]]],\n",
      "\n",
      "\n",
      "        [[[0.9868, 0.5535],\n",
      "          [0.2247, 0.4455],\n",
      "          [0.4509, 0.8464]],\n",
      "\n",
      "         [[0.3166, 0.9207],\n",
      "          [0.8202, 0.9271],\n",
      "          [0.2324, 0.9213]]]])\n",
      "4\n",
      "torch.Size([3, 2, 3, 2])\n"
     ]
    }
   ],
   "source": [
    "# create a random tensor 2\n",
    "random_tensor = torch.rand(3, 2, 3, 2)\n",
    "# random_tensor = torch.rand(size=(3, 2, 3, 2)) same as above\n",
    "print(random_tensor)\n",
    "print(random_tensor.ndim) # 4 dimensional (matrix essentially) (number of nested arrays)\n",
    "print(random_tensor.shape)"
   ]
  },
  {
   "cell_type": "code",
   "execution_count": 41,
   "metadata": {},
   "outputs": [
    {
     "name": "stdout",
     "output_type": "stream",
     "text": [
      "3\n",
      "torch.Size([224, 224, 3])\n"
     ]
    }
   ],
   "source": [
    "# create a random tensor with similar shape to an image tensor\n",
    "random_image_tensor = torch.rand(size=(224, 224, 3)) # (width, height, color channel (R, G, B))\n",
    "print(random_image_tensor.ndim) # 3 dimensional (matrix essentially) (number of nested arrays)\n",
    "print(random_image_tensor.shape)"
   ]
  },
  {
   "cell_type": "code",
   "execution_count": 40,
   "metadata": {},
   "outputs": [
    {
     "name": "stdout",
     "output_type": "stream",
     "text": [
      "tensor([[0., 0., 0., 0.],\n",
      "        [0., 0., 0., 0.],\n",
      "        [0., 0., 0., 0.]])\n",
      "2\n",
      "torch.Size([3, 4])\n"
     ]
    }
   ],
   "source": [
    "# zeros tensor\n",
    "zeros = torch.zeros(size=(3, 4))\n",
    "print(zeros)\n",
    "print(zeros.ndim) # 2 dimensional (matrix essentially) (number of nested arrays)\n",
    "print(zeros.shape)"
   ]
  },
  {
   "cell_type": "code",
   "execution_count": 39,
   "metadata": {},
   "outputs": [
    {
     "data": {
      "text/plain": [
       "tensor([[0.7616, 0.8478, 0.5302],\n",
       "        [0.2763, 1.6523, 3.9702]])"
      ]
     },
     "execution_count": 39,
     "metadata": {},
     "output_type": "execute_result"
    }
   ],
   "source": [
    "r = torch.tensor([[1, 2, 3], [4, 5, 6]])\n",
    "# z = torch.zeros_like(r)\n",
    "k = torch.rand(2, 3)\n",
    "r * k"
   ]
  },
  {
   "cell_type": "code",
   "execution_count": 42,
   "metadata": {},
   "outputs": [
    {
     "name": "stdout",
     "output_type": "stream",
     "text": [
      "tensor([[1., 1., 1., 1.],\n",
      "        [1., 1., 1., 1.],\n",
      "        [1., 1., 1., 1.]])\n",
      "2\n",
      "torch.Size([3, 4])\n",
      "torch.float32\n"
     ]
    }
   ],
   "source": [
    "# ones tensor\n",
    "ones = torch.ones(size=(3, 4))\n",
    "print(ones)\n",
    "print(ones.ndim) # 2 dimensional (matrix essentially) (number of nested arrays)\n",
    "print(ones.shape)\n",
    "print(ones.dtype) # default type is float32"
   ]
  },
  {
   "cell_type": "code",
   "execution_count": 47,
   "metadata": {},
   "outputs": [
    {
     "name": "stdout",
     "output_type": "stream",
     "text": [
      "tensor([0, 2, 4, 6, 8])\n",
      "torch.int64\n"
     ]
    }
   ],
   "source": [
    "# Creating a range of tensors\n",
    "\n",
    "range_tensor = torch.arange(start=0, end=10, step=2)\n",
    "print(range_tensor)\n",
    "print(range_tensor.dtype) # default type is int64"
   ]
  },
  {
   "cell_type": "code",
   "execution_count": 48,
   "metadata": {},
   "outputs": [
    {
     "name": "stdout",
     "output_type": "stream",
     "text": [
      "tensor([0, 2, 4, 6, 8])\n",
      "torch.int64\n"
     ]
    }
   ],
   "source": [
    "\n",
    "range_tensor = torch.arange(start=0, end=10, step=2)\n",
    "print(range_tensor)\n",
    "print(range_tensor.dtype) # default type is int64"
   ]
  }
 ],
 "metadata": {
  "kernelspec": {
   "display_name": "Python 3",
   "language": "python",
   "name": "python3"
  },
  "language_info": {
   "codemirror_mode": {
    "name": "ipython",
    "version": 3
   },
   "file_extension": ".py",
   "mimetype": "text/x-python",
   "name": "python",
   "nbconvert_exporter": "python",
   "pygments_lexer": "ipython3",
   "version": "3.12.4"
  }
 },
 "nbformat": 4,
 "nbformat_minor": 2
}
