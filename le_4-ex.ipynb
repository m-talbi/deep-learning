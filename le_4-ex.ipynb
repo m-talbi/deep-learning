{
 "cells": [
  {
   "cell_type": "code",
   "execution_count": 1,
   "metadata": {},
   "outputs": [],
   "source": [
    "import torch\n",
    "import numpy as np"
   ]
  },
  {
   "cell_type": "code",
   "execution_count": 5,
   "metadata": {},
   "outputs": [
    {
     "name": "stdout",
     "output_type": "stream",
     "text": [
      "tensor([[2.9186],\n",
      "        [2.0572],\n",
      "        [2.1108],\n",
      "        [2.7854],\n",
      "        [2.3311],\n",
      "        [1.8211],\n",
      "        [1.7679]]) torch.Size([7, 1])\n"
     ]
    }
   ],
   "source": [
    "k = torch.rand(7, 7)\n",
    "op = k @ torch.rand(1, 7).T\n",
    "print(op, op.shape)"
   ]
  },
  {
   "cell_type": "code",
   "execution_count": 6,
   "metadata": {},
   "outputs": [
    {
     "name": "stdout",
     "output_type": "stream",
     "text": [
      "tensor([[1.8542],\n",
      "        [1.9611],\n",
      "        [2.2884],\n",
      "        [3.0481],\n",
      "        [1.7067],\n",
      "        [2.5290],\n",
      "        [1.7989]]) torch.Size([7, 1])\n"
     ]
    }
   ],
   "source": [
    "seed = 0\n",
    "torch.manual_seed(seed)\n",
    "k = torch.rand(7, 7)\n",
    "op = k @ torch.rand(1, 7).T\n",
    "print(op, op.shape)"
   ]
  },
  {
   "cell_type": "code",
   "execution_count": 8,
   "metadata": {},
   "outputs": [
    {
     "name": "stdout",
     "output_type": "stream",
     "text": [
      "tensor([[2.5893],\n",
      "        [2.1242],\n",
      "        [1.8872],\n",
      "        [2.5468],\n",
      "        [1.7516],\n",
      "        [1.6445],\n",
      "        [1.6517]], device='cuda:0') torch.Size([7, 1])\n"
     ]
    }
   ],
   "source": [
    "torch.cuda.manual_seed(1234)\n",
    "k = torch.rand(7, 7, device=\"cuda\")\n",
    "op = k @ torch.rand(1, 7, device=\"cuda\").T\n",
    "print(op, op.shape)"
   ]
  },
  {
   "cell_type": "code",
   "execution_count": 14,
   "metadata": {},
   "outputs": [
    {
     "name": "stdout",
     "output_type": "stream",
     "text": [
      "tensor([[0.3647, 0.4709],\n",
      "        [0.5184, 0.5617]]) torch.Size([2, 2])\n",
      "tensor(0.5617)\n",
      "tensor(0.3647)\n",
      "tensor(3)\n",
      "tensor(0)\n"
     ]
    }
   ],
   "source": [
    "torch.manual_seed(1234)\n",
    "k1 = torch.rand(2, 3)\n",
    "k2 = torch.rand(2, 3)\n",
    "device = \"cuda\" if torch.cuda.is_available() else \"cpu\"\n",
    "k1.to(device)\n",
    "k2.to(device)\n",
    "op = k1 @ k2.T\n",
    "print(op, op.shape)\n",
    "print(op.max())\n",
    "print(op.min())\n",
    "print(op.argmax())\n",
    "print(op.argmin())"
   ]
  },
  {
   "cell_type": "code",
   "execution_count": 13,
   "metadata": {},
   "outputs": [
    {
     "name": "stdout",
     "output_type": "stream",
     "text": [
      "tensor([0.5349, 0.1988, 0.6592, 0.6569, 0.2328, 0.4251, 0.2071, 0.6297, 0.3653,\n",
      "        0.8513]) torch.Size([10])\n",
      "tensor([[[0.5349, 0.1988, 0.6592, 0.6569, 0.2328, 0.4251, 0.2071, 0.6297,\n",
      "          0.3653, 0.8513]]]) torch.Size([1, 1, 10])\n",
      "tensor([[0.5349, 0.1988, 0.6592, 0.6569, 0.2328, 0.4251, 0.2071, 0.6297, 0.3653,\n",
      "         0.8513]]) torch.Size([1, 10])\n"
     ]
    }
   ],
   "source": [
    "torch.manual_seed(7)\n",
    "k = torch.rand(1, 1, 1, 10)\n",
    "l = k.squeeze()\n",
    "sq = torch.rand_like(k).squeeze()\n",
    "print(sq, sq.shape)\n",
    "print(k, k.shape)"
   ]
  }
 ],
 "metadata": {
  "kernelspec": {
   "display_name": "Python 3",
   "language": "python",
   "name": "python3"
  },
  "language_info": {
   "codemirror_mode": {
    "name": "ipython",
    "version": 3
   },
   "file_extension": ".py",
   "mimetype": "text/x-python",
   "name": "python",
   "nbconvert_exporter": "python",
   "pygments_lexer": "ipython3",
   "version": "3.12.4"
  }
 },
 "nbformat": 4,
 "nbformat_minor": 2
}
